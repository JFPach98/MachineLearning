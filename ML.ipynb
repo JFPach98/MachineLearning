{
 "cells": [
  {
   "cell_type": "code",
   "execution_count": 2,
   "metadata": {},
   "outputs": [
    {
     "name": "stdout",
     "output_type": "stream",
     "text": [
      "1D array:\n",
      "[1 2 3]\n",
      "\n",
      "2D array:\n",
      "[[1 2 3]\n",
      " [4 5 6]]\n"
     ]
    }
   ],
   "source": [
    "import numpy as np\n",
    "\n",
    "a=np.array([1,2,3])\n",
    "print('1D array:')\n",
    "print(a)\n",
    "print()\n",
    "b=np.array([(1,2,3),(4,5,6)])\n",
    "print('2D array:')\n",
    "print(b)"
   ]
  },
  {
   "cell_type": "code",
   "execution_count": 4,
   "metadata": {},
   "outputs": [
    {
     "name": "stdout",
     "output_type": "stream",
     "text": [
      "Resultado liste de Python\n",
      "28000\n",
      "\n",
      "Resultado NumPy array:\n",
      "8000\n"
     ]
    }
   ],
   "source": [
    "import numpy as np\n",
    "import sys\n",
    "\n",
    "S = range(1000)\n",
    "print('Resultado liste de Python')\n",
    "print(sys.getsizeof(5)*len(S))\n",
    "print()\n",
    "D = np.arange(1000)\n",
    "print('Resultado NumPy array:')\n",
    "print(D.size*D.itemsize)"
   ]
  },
  {
   "cell_type": "code",
   "execution_count": 7,
   "metadata": {},
   "outputs": [
    {
     "name": "stdout",
     "output_type": "stream",
     "text": [
      "Resultado lista de Python\n",
      "159.8834991455078\n",
      "\n",
      "Resultado NumPy array:\n",
      "34.365177154541016\n"
     ]
    }
   ],
   "source": [
    "import numpy as np\n",
    "import time\n",
    "\n",
    "SIZE = 1000000\n",
    "\n",
    "L1 = range(SIZE)\n",
    "L2 = range(SIZE)\n",
    "A1 = np.arange(SIZE)\n",
    "A2 = np.arange(SIZE)\n",
    "\n",
    "start = time.time()\n",
    "result = [(x,y) for x,y in zip(L1,L2)]\n",
    "print('Resultado lista de Python')\n",
    "print((time.time()-start)*1000)\n",
    "print()\n",
    "start = time.time()\n",
    "result = A1 + A2\n",
    "print('Resultado NumPy array:')\n",
    "print((time.time()-start)*1000)"
   ]
  },
  {
   "cell_type": "code",
   "execution_count": null,
   "metadata": {},
   "outputs": [],
   "source": []
  }
 ],
 "metadata": {
  "kernelspec": {
   "display_name": "Python 3",
   "language": "python",
   "name": "python3"
  },
  "language_info": {
   "codemirror_mode": {
    "name": "ipython",
    "version": 3
   },
   "file_extension": ".py",
   "mimetype": "text/x-python",
   "name": "python",
   "nbconvert_exporter": "python",
   "pygments_lexer": "ipython3",
   "version": "3.6.5"
  }
 },
 "nbformat": 4,
 "nbformat_minor": 2
}
